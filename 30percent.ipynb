{
 "cells": [
  {
   "cell_type": "code",
   "execution_count": 1,
   "metadata": {},
   "outputs": [],
   "source": [
    "import pandas as pd"
   ]
  },
  {
   "cell_type": "markdown",
   "metadata": {},
   "source": [
    "Utility functions"
   ]
  },
  {
   "cell_type": "code",
   "execution_count": 75,
   "metadata": {},
   "outputs": [],
   "source": [
    "# function to remove a redundant first name column and a redundant last name column\n",
    "def deleteFirstLastNameColumn(df_result):\n",
    "    # df_result is of dataframe type\n",
    "    df_result.drop('First Name ', axis = 1, inplace = True)\n",
    "    df_result = df_result.loc[:,~df_result.columns.duplicated()] # TODO: find better way to remove the redundant last name column\n",
    "\n",
    "# function to mark all columns in a worksheet (dataframe type) with their year info. and part info, to avoid column with same name.\n",
    "def addPartInfo(df_container, part):\n",
    "    # df_container is of dataframe type, while year (two digit) and part (P#) are of string type\n",
    "    for c in df_container.columns:\n",
    "        if c != 'First Name' and c != \"First Name \" and c != \"Last Name\":\n",
    "            df_container.rename(columns={c : part + '_' + c}, inplace=True)\n",
    "    \n",
    "def addYearInfo(df_container, year):\n",
    "    # df_container is of dataframe type, while year (two digit) and part (P#) are of string type\n",
    "    for c in df_container.columns:\n",
    "        if c != 'First Name' and c != \"First Name \" and c != \"Last Name\":\n",
    "            df_container.rename(columns={c : str(year) + '_' + str(c)}, inplace=True)"
   ]
  },
  {
   "cell_type": "markdown",
   "metadata": {},
   "source": [
    "Read 'LSSBB15 Grade Sheet.xlsx' and load its content into dataframe called 'df_2015'."
   ]
  },
  {
   "cell_type": "code",
   "execution_count": 15,
   "metadata": {},
   "outputs": [],
   "source": [
    "# load Excel file\n",
    "xls = pd.ExcelFile('LSSBB15 Grade Sheet.xlsx')\n",
    "print('Mission Completed')"
   ]
  },
  {
   "cell_type": "code",
   "execution_count": 16,
   "metadata": {},
   "outputs": [],
   "source": [
    "# there is only one worksheet in this spreadsheet\n",
    "df_2015 = pd.read_excel(xls, header = 1)[:36]\n",
    "print('Mission Completed')"
   ]
  },
  {
   "cell_type": "markdown",
   "metadata": {},
   "source": [
    "Read 'LSSBB16 Grade Sheet JEN (last) (Autosaved).xlsx' and load all its relevant sheets into dataframe called 'df_2016'."
   ]
  },
  {
   "cell_type": "code",
   "execution_count": 59,
   "metadata": {},
   "outputs": [
    {
     "name": "stdout",
     "output_type": "stream",
     "text": [
      "Mission Completed\n"
     ]
    }
   ],
   "source": [
    "# load Excel file\n",
    "xls = pd.ExcelFile('LSSBB16 Grade Sheet JEN (last) (Autosaved).xlsx')\n",
    "print('Mission Completed')"
   ]
  },
  {
   "cell_type": "code",
   "execution_count": 62,
   "metadata": {},
   "outputs": [
    {
     "name": "stdout",
     "output_type": "stream",
     "text": [
      "Mission Completed\n"
     ]
    }
   ],
   "source": [
    "# put all worksheets of interest into separate worksheets\n",
    "df_container1 = pd.read_excel(xls, 'LSSBB - Part 1', header = 1)[:31]\n",
    "addPartInfo(df_container1, 'P1')\n",
    "df_container2 = pd.read_excel(xls, 'LSSBB - Part 2', header = 1)[:31]\n",
    "addPartInfo(df_container2, 'P2')\n",
    "df_container3 = pd.read_excel(xls, 'LSSBB - Part 3', header = 1)[:31]\n",
    "addPartInfo(df_container3, 'P3')\n",
    "df_container4 = pd.read_excel(xls, 'LSSBB - Part 4', header = 1)[:31]\n",
    "addPartInfo(df_container4, 'P4')\n",
    "df_container5 = pd.read_excel(xls, 'LSSBB - Part 5', header = 1)[:31]\n",
    "addPartInfo(df_container5, 'P5')\n",
    "df_container6 = pd.read_excel(xls, 'LSSBB - Part 6', header = 1)[:31]\n",
    "addPartInfo(df_container6, 'P6')\n",
    "df_container7 = pd.read_excel(xls, 'LSSBB-TOTAL', header = 1)[:43]\n",
    "addPartInfo(df_container7, 'Total')\n",
    "df_container7 = df_container7.drop(df_container7.index[[32,36]])\n",
    "print('Mission Completed')"
   ]
  },
  {
   "cell_type": "code",
   "execution_count": 63,
   "metadata": {},
   "outputs": [
    {
     "name": "stdout",
     "output_type": "stream",
     "text": [
      "Mission Completed\n"
     ]
    }
   ],
   "source": [
    "# this cell merge all sheets together.\n",
    "# I merged the worksheets one at a time, because the \"First Name\" column has inconsistant column name. \n",
    "# That is, there is a trailing space in many cases (\"First Name \"), which prevented me from merging all worksheets\n",
    "# in one go.\n",
    "df_result = pd.merge(df_container1, df_container2, left_on = ['Last Name', 'First Name'], right_on = ['Last Name', 'First Name ']) # merge two dataframes on first/last names\n",
    "deleteFirstLastNameColumn(df_result)\n",
    "df_result = pd.merge(df_result, df_container3, left_on = ['Last Name', 'First Name'], right_on = ['Last Name', 'First Name ']) # merge two dataframes on first/last names\n",
    "deleteFirstLastNameColumn(df_result)\n",
    "df_result = pd.merge(df_result, df_container4, left_on = ['Last Name', 'First Name'], right_on = ['Last Name', 'First Name ']) # merge two dataframes on first/last names\n",
    "deleteFirstLastNameColumn(df_result)\n",
    "df_result = pd.merge(df_result, df_container5, left_on = ['Last Name', 'First Name'], right_on = ['Last Name', 'First Name ']) # merge two dataframes on first/last names\n",
    "deleteFirstLastNameColumn(df_result)\n",
    "df_result = pd.merge(df_result, df_container6, left_on = ['Last Name', 'First Name'], right_on = ['Last Name', 'First Name ']) # merge two dataframes on first/last names\n",
    "deleteFirstLastNameColumn(df_result)\n",
    "df_result = pd.merge(df_result, df_container7, left_on = ['Last Name', 'First Name'], right_on = ['Last Name', 'First Name ']) # merge two dataframes on first/last names\n",
    "deleteFirstLastNameColumn(df_result)\n",
    "addYearInfo(df_result, '16')\n",
    "df_2016 = df_result\n",
    "print('Mission Completed')"
   ]
  },
  {
   "cell_type": "markdown",
   "metadata": {},
   "source": [
    "Read 'copy LSSBB17 Grade Sheet ASTRID2 (Autosaved) last version.xlsx' and load all its relevant sheets into dataframe called 'df_2017'."
   ]
  },
  {
   "cell_type": "code",
   "execution_count": 71,
   "metadata": {},
   "outputs": [
    {
     "name": "stdout",
     "output_type": "stream",
     "text": [
      "Mission Completed\n"
     ]
    }
   ],
   "source": [
    "xls = pd.ExcelFile('copy LSSBB17 Grade Sheet ASTRID2 (Autosaved) last version.xlsx')\n",
    "print('Mission Completed')"
   ]
  },
  {
   "cell_type": "code",
   "execution_count": 72,
   "metadata": {},
   "outputs": [
    {
     "name": "stdout",
     "output_type": "stream",
     "text": [
      "Mission Completed\n"
     ]
    }
   ],
   "source": [
    "df_container1 = pd.read_excel(xls, 'LSSBB - Part 1', header = 1)[:34]\n",
    "addPartInfo(df_container1, 'P1')\n",
    "df_container2 = pd.read_excel(xls, 'LSSBB - Part 2', header = 1)[:34]\n",
    "addPartInfo(df_container1, 'P2')\n",
    "df_container3 = pd.read_excel(xls, 'LSSBB - Part 3', header = 1)[:34]\n",
    "addPartInfo(df_container1, 'P3')\n",
    "df_container4 = pd.read_excel(xls, 'LSSBB - Part 4', header = 1)[:34]\n",
    "addPartInfo(df_container1, 'P4')\n",
    "df_container5 = pd.read_excel(xls, 'LSSBB - Part 5', header = 1)[:34]\n",
    "addPartInfo(df_container1, 'P5')\n",
    "df_container6 = pd.read_excel(xls, 'LSSBB - Part 6', header = 1)[:34]\n",
    "addPartInfo(df_container1, 'P6')\n",
    "df_container7 = pd.read_excel(xls, 'Project ', header = 0)[:34]\n",
    "addPartInfo(df_container1, 'Project')\n",
    "df_container8 = pd.read_excel(xls, 'LSSBB-EXAM-TOTAL', header = 1)[:44]\n",
    "addPartInfo(df_container1, 'Total')\n",
    "df_container8 = df_container8.drop(df_container8.index[[35,40]])\n",
    "print('Mission Completed')"
   ]
  },
  {
   "cell_type": "code",
   "execution_count": 76,
   "metadata": {},
   "outputs": [
    {
     "name": "stdout",
     "output_type": "stream",
     "text": [
      "Mission Completed\n"
     ]
    }
   ],
   "source": [
    "df_result = pd.merge(df_container1, df_container2, left_on = ['Last Name', 'First Name'], right_on = ['Last Name', 'First Name ']) # merge two dataframes on first/last names\n",
    "deleteFirstLastNameColumn(df_result)\n",
    "df_result = pd.merge(df_result, df_container3, left_on = ['Last Name', 'First Name'], right_on = ['Last Name', 'First Name ']) # merge two dataframes on first/last names\n",
    "deleteFirstLastNameColumn(df_result)\n",
    "df_result = pd.merge(df_result, df_container4, left_on = ['Last Name', 'First Name'], right_on = ['Last Name', 'First Name ']) # merge two dataframes on first/last names\n",
    "deleteFirstLastNameColumn(df_result)\n",
    "df_result = pd.merge(df_result, df_container5, left_on = ['Last Name', 'First Name'], right_on = ['Last Name', 'First Name ']) # merge two dataframes on first/last names\n",
    "deleteFirstLastNameColumn(df_result)\n",
    "df_result = pd.merge(df_result, df_container6, left_on = ['Last Name', 'First Name'], right_on = ['Last Name', 'First Name ']) # merge two dataframes on first/last names\n",
    "deleteFirstLastNameColumn(df_result)\n",
    "df_result = pd.merge(df_result, df_container7, left_on = ['Last Name', 'First Name'], right_on = ['Last Name', 'First Name ']) # merge two dataframes on first/last names\n",
    "deleteFirstLastNameColumn(df_result)\n",
    "df_result = pd.merge(df_result, df_container8, left_on = ['Last Name', 'First Name'], right_on = ['Last Name', 'First Name ']) # merge two dataframes on first/last names\n",
    "deleteFirstLastNameColumn(df_result)\n",
    "addYearInfo(df_result, '17')\n",
    "df_2017 = df_result\n",
    "print('Mission Completed')"
   ]
  },
  {
   "cell_type": "markdown",
   "metadata": {},
   "source": [
    "Read 'LSSBB-18 Grade Sheet ASTRID.xlsx' and load all its relevant sheets into dataframe called 'df_2018'."
   ]
  },
  {
   "cell_type": "code",
   "execution_count": 77,
   "metadata": {},
   "outputs": [
    {
     "name": "stdout",
     "output_type": "stream",
     "text": [
      "Mission Completed\n"
     ]
    }
   ],
   "source": [
    "xls = pd.ExcelFile('LSSBB-18 Grade Sheet ASTRID.xlsx')\n",
    "print('Mission Completed')"
   ]
  },
  {
   "cell_type": "code",
   "execution_count": 78,
   "metadata": {},
   "outputs": [
    {
     "name": "stdout",
     "output_type": "stream",
     "text": [
      "Mission Completed\n"
     ]
    }
   ],
   "source": [
    "df_container1 = pd.read_excel(xls, 'LSSBB - Part 1', header = 1)[:34]\n",
    "addPartInfo(df_container1, 'P1')\n",
    "df_container2 = pd.read_excel(xls, 'LSSBB - Part 2', header = 1)[:34]\n",
    "addPartInfo(df_container1, 'P2')\n",
    "df_container3 = pd.read_excel(xls, 'LSSBB - Part 3', header = 1)[:34]\n",
    "addPartInfo(df_container1, 'P3')\n",
    "df_container4 = pd.read_excel(xls, 'LSSBB - Part 4', header = 1)[:34]\n",
    "addPartInfo(df_container1, 'P4')\n",
    "df_container5 = pd.read_excel(xls, 'LSSBB - Part 5', header = 1)[:34]\n",
    "addPartInfo(df_container1, 'P5')\n",
    "df_container6 = pd.read_excel(xls, 'LSSBB - Part 6', header = 1)[:34]\n",
    "addPartInfo(df_container1, 'P6')\n",
    "df_container7 = pd.read_excel(xls, 'Project ', header = 0)[:34]\n",
    "addPartInfo(df_container1, 'Project')\n",
    "df_container8 = pd.read_excel(xls, 'LSSBB-EXAM-TOTAL', header = 1)[:44]\n",
    "addPartInfo(df_container1, 'Total')\n",
    "df_container8 = df_container8.drop(df_container8.index[[35,40]])\n",
    "print('Mission Completed')"
   ]
  },
  {
   "cell_type": "code",
   "execution_count": 79,
   "metadata": {},
   "outputs": [
    {
     "name": "stdout",
     "output_type": "stream",
     "text": [
      "Mission Completed\n"
     ]
    }
   ],
   "source": [
    "df_result = pd.merge(df_container1, df_container2, left_on = ['Last Name', 'First Name'], right_on = ['Last Name', 'First Name ']) # merge two dataframes on first/last names\n",
    "deleteFirstLastNameColumn(df_result)\n",
    "df_result = pd.merge(df_result, df_container3, left_on = ['Last Name', 'First Name'], right_on = ['Last Name', 'First Name ']) # merge two dataframes on first/last names\n",
    "deleteFirstLastNameColumn(df_result)\n",
    "df_result = pd.merge(df_result, df_container4, left_on = ['Last Name', 'First Name'], right_on = ['Last Name', 'First Name ']) # merge two dataframes on first/last names\n",
    "deleteFirstLastNameColumn(df_result)\n",
    "df_result = pd.merge(df_result, df_container5, left_on = ['Last Name', 'First Name'], right_on = ['Last Name', 'First Name ']) # merge two dataframes on first/last names\n",
    "deleteFirstLastNameColumn(df_result)\n",
    "df_result = pd.merge(df_result, df_container6, left_on = ['Last Name', 'First Name'], right_on = ['Last Name', 'First Name ']) # merge two dataframes on first/last names\n",
    "deleteFirstLastNameColumn(df_result)\n",
    "df_result = pd.merge(df_result, df_container7, left_on = ['Last Name', 'First Name'], right_on = ['Last Name', 'First Name ']) # merge two dataframes on first/last names\n",
    "deleteFirstLastNameColumn(df_result)\n",
    "df_result = pd.merge(df_result, df_container8, left_on = ['Last Name', 'First Name'], right_on = ['Last Name', 'First Name ']) # merge two dataframes on first/last names\n",
    "deleteFirstLastNameColumn(df_result)\n",
    "addYearInfo(df_result, '18')\n",
    "df_2018 = df_result\n",
    "print('Mission Completed')"
   ]
  },
  {
   "cell_type": "code",
   "execution_count": 81,
   "metadata": {},
   "outputs": [],
   "source": [
    "\n",
    "df_2015 = df_2015.loc[:,~df_2015.columns.duplicated()]\n",
    "df_2016 = df_2016.loc[:,~df_2016.columns.duplicated()]\n",
    "df_2017 = df_2017.loc[:,~df_2017.columns.duplicated()]\n",
    "df_2018 = df_2018.loc[:,~df_2018.columns.duplicated()]\n",
    "\n",
    "df_list = [df_2015, df_2016, df_2017]  # a generic solution for 2 or more frames\n",
    "\n",
    "\n",
    "df_2015_to_2018 = pd.concat(df_list, axis=0, ignore_index=True, sort = False)\n"
   ]
  },
  {
   "cell_type": "code",
   "execution_count": 82,
   "metadata": {},
   "outputs": [],
   "source": [
    "df_2015_to_2018.to_csv (\"combined_spreadsheet.csv\", index = None, header=True)\n"
   ]
  },
  {
   "cell_type": "code",
   "execution_count": null,
   "metadata": {},
   "outputs": [],
   "source": []
  },
  {
   "cell_type": "code",
   "execution_count": null,
   "metadata": {},
   "outputs": [],
   "source": []
  },
  {
   "cell_type": "code",
   "execution_count": null,
   "metadata": {},
   "outputs": [],
   "source": []
  },
  {
   "cell_type": "code",
   "execution_count": null,
   "metadata": {},
   "outputs": [],
   "source": []
  }
 ],
 "metadata": {
  "kernelspec": {
   "display_name": "Python 3",
   "language": "python",
   "name": "python3"
  },
  "language_info": {
   "codemirror_mode": {
    "name": "ipython",
    "version": 3
   },
   "file_extension": ".py",
   "mimetype": "text/x-python",
   "name": "python",
   "nbconvert_exporter": "python",
   "pygments_lexer": "ipython3",
   "version": "3.7.1"
  }
 },
 "nbformat": 4,
 "nbformat_minor": 2
}
